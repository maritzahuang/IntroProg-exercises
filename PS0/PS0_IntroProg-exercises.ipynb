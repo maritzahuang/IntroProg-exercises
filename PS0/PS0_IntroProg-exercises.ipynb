{
 "cells": [
  {
   "cell_type": "code",
   "execution_count": 10,
   "metadata": {},
   "outputs": [
    {
     "name": "stdout",
     "output_type": "stream",
     "text": [
      "3\n"
     ]
    }
   ],
   "source": [
    "# VSCode+Jupyter\n",
    "a=1\n",
    "b=2\n",
    "c=a+b\n",
    "print(c)"
   ]
  },
  {
   "cell_type": "code",
   "execution_count": 2,
   "metadata": {},
   "outputs": [
    {
     "name": "stdout",
     "output_type": "stream",
     "text": [
      "[0, 1]\n",
      "[2, 3, 4, 5]\n"
     ]
    }
   ],
   "source": [
    "x=[0,1,2,3,4,5]\n",
    "print(x[:2])\n",
    "print(x[2:])"
   ]
  },
  {
   "cell_type": "code",
   "execution_count": 3,
   "metadata": {},
   "outputs": [
    {
     "name": "stdout",
     "output_type": "stream",
     "text": [
      "[1, 2, 4]\n"
     ]
    }
   ],
   "source": [
    "x=[1,2,3]\n",
    "y=x\n",
    "y[-1]=4\n",
    "print(x)"
   ]
  },
  {
   "cell_type": "code",
   "execution_count": 4,
   "metadata": {},
   "outputs": [
    {
     "name": "stdout",
     "output_type": "stream",
     "text": [
      "0\n",
      "1\n"
     ]
    }
   ],
   "source": [
    "for i in range (5):\n",
    "    if i>=2: break\n",
    "    print(i)"
   ]
  },
  {
   "cell_type": "code",
   "execution_count": 12,
   "metadata": {},
   "outputs": [
    {
     "name": "stdout",
     "output_type": "stream",
     "text": [
      "0\n",
      "1\n",
      "3\n",
      "4\n"
     ]
    }
   ],
   "source": [
    "# Loops -continue\n",
    "for i in range (5):\n",
    "    if i==2: continue\n",
    "    print (i)"
   ]
  },
  {
   "cell_type": "code",
   "execution_count": 11,
   "metadata": {},
   "outputs": [
    {
     "name": "stdout",
     "output_type": "stream",
     "text": [
      "just rigt\n"
     ]
    }
   ],
   "source": [
    "# conditionals:\n",
    "\n",
    "x=3\n",
    "if x>3:\n",
    "    print('too big')\n",
    "elif x<1:\n",
    "    print('too small')\n",
    "else:\n",
    "    print('just rigt')"
   ]
  },
  {
   "cell_type": "code",
   "execution_count": 13,
   "metadata": {},
   "outputs": [
    {
     "name": "stdout",
     "output_type": "stream",
     "text": [
      "2\n",
      "2\n",
      "3\n",
      "2\n"
     ]
    }
   ],
   "source": [
    "# functions and scope\n",
    "\n",
    "a=1\n",
    "def f(x):\n",
    "    return x+a # a is a global variable\n",
    "def g(x,a=1):\n",
    "    return x+a # a is local variable\n",
    "print(f(1))\n",
    "print(g(1))\n",
    "a=2\n",
    "print(f(1))\n",
    "print(g(1))"
   ]
  },
  {
   "cell_type": "code",
   "execution_count": 14,
   "metadata": {},
   "outputs": [
    {
     "name": "stdout",
     "output_type": "stream",
     "text": [
      "False\n",
      "True\n",
      "True\n",
      "True\n",
      "True\n",
      "True\n"
     ]
    }
   ],
   "source": [
    "# floating points\n",
    "import numpy as np\n",
    "print(0.1+0.2==0.3)\n",
    "print (0.5+ 0.5 ==1.0)\n",
    "print(np.isclose(0.1+0.2,0.3))\n",
    "print(np.isclose(1e-200*1e200*1e200*1e-200,1.0))\n",
    "print(np.isinf(1e-200*(1e200*1e200)*1e-200))\n",
    "print(np.isclose(1e200*(1e-200*1e-200)*1e200,0.0))"
   ]
  },
  {
   "cell_type": "code",
   "execution_count": 15,
   "metadata": {},
   "outputs": [
    {
     "name": "stdout",
     "output_type": "stream",
     "text": [
      "[3 4 5]\n"
     ]
    }
   ],
   "source": [
    "# Numpy\n",
    "import numpy as np\n",
    "x=np.array([1,2,3])\n",
    "y=x\n",
    "x +=1\n",
    "x[:]=x+1\n",
    "x=x+1\n",
    "print(y)"
   ]
  },
  {
   "cell_type": "code",
   "execution_count": 16,
   "metadata": {},
   "outputs": [
    {
     "name": "stdout",
     "output_type": "stream",
     "text": [
      "4\n"
     ]
    }
   ],
   "source": [
    "#classes\n",
    "\n",
    "class SquareClass:\n",
    "    def __init__(self, length, width):\n",
    "        self.length=length\n",
    "        self.width=width\n",
    "    def size(self):\n",
    "        return self.length*self.width\n",
    "square=SquareClass(2,2)\n",
    "print(square.size())"
   ]
  }
 ],
 "metadata": {
  "kernelspec": {
   "display_name": "base",
   "language": "python",
   "name": "python3"
  },
  "language_info": {
   "codemirror_mode": {
    "name": "ipython",
    "version": 3
   },
   "file_extension": ".py",
   "mimetype": "text/x-python",
   "name": "python",
   "nbconvert_exporter": "python",
   "pygments_lexer": "ipython3",
   "version": "3.11.7"
  }
 },
 "nbformat": 4,
 "nbformat_minor": 2
}
